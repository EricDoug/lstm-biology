{
 "cells": [
  {
   "cell_type": "code",
   "execution_count": 1,
   "metadata": {
    "ExecuteTime": {
     "end_time": "2016-03-31T00:37:58.150000",
     "start_time": "2016-03-31T00:37:55.639000"
    },
    "collapsed": false
   },
   "outputs": [],
   "source": [
    "import numpy as np\n",
    "import matplotlib.pyplot as plt\n",
    "import bayesloop as bl\n",
    "import seaborn as sns\n",
    "from scipy.optimize import fmin\n",
    "plt.style.use('classic')  # bayesloop enables ggplot style, switch back to classic.\n",
    "%matplotlib inline"
   ]
  },
  {
   "cell_type": "code",
   "execution_count": 2,
   "metadata": {
    "ExecuteTime": {
     "end_time": "2016-03-31T00:37:59.531000",
     "start_time": "2016-03-31T00:37:59.528000"
    },
    "collapsed": true
   },
   "outputs": [],
   "source": [
    "densities_per_category = {}"
   ]
  },
  {
   "cell_type": "code",
   "execution_count": 3,
   "metadata": {
    "ExecuteTime": {
     "end_time": "2016-03-31T00:38:10.750000",
     "start_time": "2016-03-31T00:38:09.902000"
    },
    "collapsed": false
   },
   "outputs": [
    {
     "name": "stdout",
     "output_type": "stream",
     "text": [
      "Category fibro: Found 69 files, created 69 trajectories\n"
     ]
    }
   ],
   "source": [
    "# Read all data files of one category.\n",
    "import os\n",
    "\n",
    "category = 'fibro'\n",
    "downsample_steps = {'alive': 2, 'fibro': 5, 'plastic': 5}  # TODO: Rename var.\n",
    "\n",
    "data_dir = 'data/JulianTrajs/' + category\n",
    "#data_dir = 'data/generated/' + category\n",
    "\n",
    "trajectories = []\n",
    "filenames = os.listdir(data_dir)    \n",
    "for filename in filenames:\n",
    "    trajectory = np.genfromtxt(os.path.join(data_dir, filename))\n",
    "    trajectories.append(trajectory[::downsample_steps[category]])  # Original trajectories need to be downsampled.\n",
    "    #trajectories.append(trajectory)  # Generated trajectories are already sampled at 5 min.\n",
    "trajectories = np.array(trajectories)\n",
    "\n",
    "print \"Category {}: Found {} files, created {} trajectories\".format(category, len(filenames), len(trajectories))"
   ]
  },
  {
   "cell_type": "code",
   "execution_count": 4,
   "metadata": {
    "ExecuteTime": {
     "end_time": "2016-03-31T00:38:12.080000",
     "start_time": "2016-03-31T00:38:12.077000"
    },
    "collapsed": true
   },
   "outputs": [],
   "source": [
    "def to_velocities(x, multiple_trajectories=False):\n",
    "    return np.diff(x, axis=int(multiple_trajectories)) / 5."
   ]
  },
  {
   "cell_type": "code",
   "execution_count": 5,
   "metadata": {
    "ExecuteTime": {
     "end_time": "2016-03-31T00:38:15.750000",
     "start_time": "2016-03-31T00:38:15.747000"
    },
    "collapsed": true
   },
   "outputs": [],
   "source": [
    "trajectories = to_velocities(trajectories, multiple_trajectories=True)"
   ]
  },
  {
   "cell_type": "code",
   "execution_count": 6,
   "metadata": {
    "ExecuteTime": {
     "end_time": "2016-03-31T00:38:46.546000",
     "start_time": "2016-03-31T00:38:18.735000"
    },
    "collapsed": false,
    "scrolled": true
   },
   "outputs": [
    {
     "name": "stdout",
     "output_type": "stream",
     "text": [
      "+ Created new study.\n",
      "+ Observation model: Scaled autoregressive process of first order (AR1). Parameter(s): ['correlation coefficient', 'standard deviation']\n",
      "+ Boundaries: [[-1, 1], [0, 1.5]]\n",
      "+ Grid size: [200, 200]\n",
      "+ Transition model: Combined transition model\n",
      "-------------------\n",
      "Trajectory 1 of 69\n",
      "-------------------\n",
      "+ Successfully imported array.\n",
      "+ Started new fit:\n",
      "    + Formatted data.\n",
      "    + Finished forward pass.\n",
      "    + Log10-evidence: 62.89540\n",
      "    + Finished backward pass.\n",
      "    + Computed mean parameter values.\n",
      "-------------------\n",
      "Trajectory 2 of 69\n",
      "-------------------\n",
      "+ Successfully imported array.\n",
      "+ Started new fit:\n",
      "    + Formatted data.\n",
      "    + Finished forward pass.\n",
      "    + Log10-evidence: -38.58057\n",
      "    + Finished backward pass.\n",
      "    + Computed mean parameter values.\n",
      "-------------------\n",
      "Trajectory 3 of 69\n",
      "-------------------\n",
      "+ Successfully imported array.\n",
      "+ Started new fit:\n",
      "    + Formatted data.\n",
      "    + Finished forward pass.\n",
      "    + Log10-evidence: 19.00991\n",
      "    + Finished backward pass.\n",
      "    + Computed mean parameter values.\n",
      "-------------------\n",
      "Trajectory 4 of 69\n",
      "-------------------\n",
      "+ Successfully imported array.\n",
      "+ Started new fit:\n",
      "    + Formatted data.\n",
      "    + Finished forward pass.\n",
      "    + Log10-evidence: 47.51673\n"
     ]
    },
    {
     "ename": "KeyboardInterrupt",
     "evalue": "",
     "output_type": "error",
     "traceback": [
      "\u001b[1;31m---------------------------------------------------------------------------\u001b[0m",
      "\u001b[1;31mKeyboardInterrupt\u001b[0m                         Traceback (most recent call last)",
      "\u001b[1;32m<ipython-input-6-80d486c2db04>\u001b[0m in \u001b[0;36m<module>\u001b[1;34m()\u001b[0m\n\u001b[0;32m     17\u001b[0m     \u001b[1;32mprint\u001b[0m \u001b[1;34m'-------------------'\u001b[0m\u001b[1;33m\u001b[0m\u001b[0m\n\u001b[0;32m     18\u001b[0m     \u001b[0mS\u001b[0m\u001b[1;33m.\u001b[0m\u001b[0mloadData\u001b[0m\u001b[1;33m(\u001b[0m\u001b[0mtrajectory\u001b[0m\u001b[1;33m)\u001b[0m\u001b[1;33m\u001b[0m\u001b[0m\n\u001b[1;32m---> 19\u001b[1;33m     \u001b[0mS\u001b[0m\u001b[1;33m.\u001b[0m\u001b[0mfit\u001b[0m\u001b[1;33m(\u001b[0m\u001b[1;33m)\u001b[0m\u001b[1;33m\u001b[0m\u001b[0m\n\u001b[0m\u001b[0;32m     20\u001b[0m \u001b[1;33m\u001b[0m\u001b[0m\n\u001b[0;32m     21\u001b[0m     \u001b[1;31m# Average parameter denisites over all time steps.\u001b[0m\u001b[1;33m\u001b[0m\u001b[1;33m\u001b[0m\u001b[0m\n",
      "\u001b[1;32mD:\\Python\\27_32bit\\lib\\site-packages\\bayesloop\\study.pyc\u001b[0m in \u001b[0;36mfit\u001b[1;34m(self, forwardOnly, evidenceOnly, silent)\u001b[0m\n\u001b[0;32m    359\u001b[0m \u001b[1;33m\u001b[0m\u001b[0m\n\u001b[0;32m    360\u001b[0m                 \u001b[1;31m# re-compute likelihood\u001b[0m\u001b[1;33m\u001b[0m\u001b[1;33m\u001b[0m\u001b[0m\n\u001b[1;32m--> 361\u001b[1;33m                 \u001b[0mlikelihood\u001b[0m \u001b[1;33m=\u001b[0m \u001b[0mself\u001b[0m\u001b[1;33m.\u001b[0m\u001b[0mobservationModel\u001b[0m\u001b[1;33m.\u001b[0m\u001b[0mprocessedPdf\u001b[0m\u001b[1;33m(\u001b[0m\u001b[0mself\u001b[0m\u001b[1;33m.\u001b[0m\u001b[0mgrid\u001b[0m\u001b[1;33m,\u001b[0m \u001b[0mself\u001b[0m\u001b[1;33m.\u001b[0m\u001b[0mformattedData\u001b[0m\u001b[1;33m[\u001b[0m\u001b[0mi\u001b[0m\u001b[1;33m]\u001b[0m\u001b[1;33m)\u001b[0m\u001b[1;33m\u001b[0m\u001b[0m\n\u001b[0m\u001b[0;32m    362\u001b[0m \u001b[1;33m\u001b[0m\u001b[0m\n\u001b[0;32m    363\u001b[0m                 \u001b[1;31m# compute local evidence\u001b[0m\u001b[1;33m\u001b[0m\u001b[1;33m\u001b[0m\u001b[0m\n",
      "\u001b[1;32mD:\\Python\\27_32bit\\lib\\site-packages\\bayesloop\\observationModels.pyc\u001b[0m in \u001b[0;36mprocessedPdf\u001b[1;34m(self, grid, dataSegment)\u001b[0m\n\u001b[0;32m     38\u001b[0m         \u001b[1;31m# likelihoods are then multiplied\u001b[0m\u001b[1;33m\u001b[0m\u001b[1;33m\u001b[0m\u001b[0m\n\u001b[0;32m     39\u001b[0m         \u001b[1;32mif\u001b[0m \u001b[0mlen\u001b[0m\u001b[1;33m(\u001b[0m\u001b[0mdataSegment\u001b[0m\u001b[1;33m.\u001b[0m\u001b[0mshape\u001b[0m\u001b[1;33m)\u001b[0m \u001b[1;33m==\u001b[0m \u001b[1;36m2\u001b[0m \u001b[1;32mand\u001b[0m \u001b[0mself\u001b[0m\u001b[1;33m.\u001b[0m\u001b[0mmultiplyLikelihoods\u001b[0m\u001b[1;33m:\u001b[0m\u001b[1;33m\u001b[0m\u001b[0m\n\u001b[1;32m---> 40\u001b[1;33m             \u001b[1;32mreturn\u001b[0m \u001b[0mnp\u001b[0m\u001b[1;33m.\u001b[0m\u001b[0mprod\u001b[0m\u001b[1;33m(\u001b[0m\u001b[0mnp\u001b[0m\u001b[1;33m.\u001b[0m\u001b[0marray\u001b[0m\u001b[1;33m(\u001b[0m\u001b[1;33m[\u001b[0m\u001b[0mself\u001b[0m\u001b[1;33m.\u001b[0m\u001b[0mprocessedPdf\u001b[0m\u001b[1;33m(\u001b[0m\u001b[0mgrid\u001b[0m\u001b[1;33m,\u001b[0m \u001b[0md\u001b[0m\u001b[1;33m)\u001b[0m \u001b[1;32mfor\u001b[0m \u001b[0md\u001b[0m \u001b[1;32min\u001b[0m \u001b[0mdataSegment\u001b[0m\u001b[1;33m.\u001b[0m\u001b[0mT\u001b[0m\u001b[1;33m]\u001b[0m\u001b[1;33m)\u001b[0m\u001b[1;33m,\u001b[0m \u001b[0maxis\u001b[0m\u001b[1;33m=\u001b[0m\u001b[1;36m0\u001b[0m\u001b[1;33m)\u001b[0m\u001b[1;33m\u001b[0m\u001b[0m\n\u001b[0m\u001b[0;32m     41\u001b[0m \u001b[1;33m\u001b[0m\u001b[0m\n\u001b[0;32m     42\u001b[0m         \u001b[1;31m# check for missing data\u001b[0m\u001b[1;33m\u001b[0m\u001b[1;33m\u001b[0m\u001b[0m\n",
      "\u001b[1;32mD:\\Python\\27_32bit\\lib\\site-packages\\bayesloop\\observationModels.pyc\u001b[0m in \u001b[0;36mprocessedPdf\u001b[1;34m(self, grid, dataSegment)\u001b[0m\n\u001b[0;32m     44\u001b[0m             \u001b[1;32mreturn\u001b[0m \u001b[0mnp\u001b[0m\u001b[1;33m.\u001b[0m\u001b[0mones_like\u001b[0m\u001b[1;33m(\u001b[0m\u001b[0mgrid\u001b[0m\u001b[1;33m[\u001b[0m\u001b[1;36m0\u001b[0m\u001b[1;33m]\u001b[0m\u001b[1;33m)\u001b[0m  \u001b[1;31m# grid of ones does not alter the current prior distribution\u001b[0m\u001b[1;33m\u001b[0m\u001b[0m\n\u001b[0;32m     45\u001b[0m \u001b[1;33m\u001b[0m\u001b[0m\n\u001b[1;32m---> 46\u001b[1;33m         \u001b[1;32mreturn\u001b[0m \u001b[0mself\u001b[0m\u001b[1;33m.\u001b[0m\u001b[0mpdf\u001b[0m\u001b[1;33m(\u001b[0m\u001b[0mgrid\u001b[0m\u001b[1;33m,\u001b[0m \u001b[0mdataSegment\u001b[0m\u001b[1;33m)\u001b[0m\u001b[1;33m\u001b[0m\u001b[0m\n\u001b[0m\u001b[0;32m     47\u001b[0m \u001b[1;33m\u001b[0m\u001b[0m\n\u001b[0;32m     48\u001b[0m \u001b[1;33m\u001b[0m\u001b[0m\n",
      "\u001b[1;32mD:\\Python\\27_32bit\\lib\\site-packages\\bayesloop\\observationModels.pyc\u001b[0m in \u001b[0;36mpdf\u001b[1;34m(self, grid, dataSegment)\u001b[0m\n\u001b[0;32m    457\u001b[0m         \u001b[0mr\u001b[0m \u001b[1;33m=\u001b[0m \u001b[0mgrid\u001b[0m\u001b[1;33m[\u001b[0m\u001b[1;36m0\u001b[0m\u001b[1;33m]\u001b[0m\u001b[1;33m\u001b[0m\u001b[0m\n\u001b[0;32m    458\u001b[0m         \u001b[0ms\u001b[0m \u001b[1;33m=\u001b[0m \u001b[0mgrid\u001b[0m\u001b[1;33m[\u001b[0m\u001b[1;36m1\u001b[0m\u001b[1;33m]\u001b[0m\u001b[1;33m\u001b[0m\u001b[0m\n\u001b[1;32m--> 459\u001b[1;33m         \u001b[0msScaled\u001b[0m \u001b[1;33m=\u001b[0m \u001b[0ms\u001b[0m\u001b[1;33m*\u001b[0m\u001b[0mnp\u001b[0m\u001b[1;33m.\u001b[0m\u001b[0msqrt\u001b[0m\u001b[1;33m(\u001b[0m\u001b[1;36m1\u001b[0m \u001b[1;33m-\u001b[0m \u001b[0mr\u001b[0m\u001b[1;33m**\u001b[0m\u001b[1;36m2.\u001b[0m\u001b[1;33m)\u001b[0m\u001b[1;33m\u001b[0m\u001b[0m\n\u001b[0m\u001b[0;32m    460\u001b[0m         return np.exp(-((dataSegment[1] - r * dataSegment[0]) ** 2.) / (2. * sScaled ** 2.) - .5 * np.log(\n\u001b[0;32m    461\u001b[0m             2. * np.pi * sScaled ** 2.))\n",
      "\u001b[1;31mKeyboardInterrupt\u001b[0m: "
     ]
    }
   ],
   "source": [
    "timeAveragedPosteriors = []\n",
    "\n",
    "# Set up bayesloop study and define model parameters.\n",
    "S = bl.Study()\n",
    "M = bl.observationModels.ScaledAR1()  # process that models data locally\n",
    "S.setObservationModel(M)\n",
    "S.setGrid([[-1, 1, 200], [0, 1.5, 200]])  # discrete grid for parameters\n",
    "K = bl.transitionModels.CombinedTransitionModel(bl.tm.GaussianRandomWalk(sigma=0.03, param='correlation coefficient'),  # gradual variations of persistence\n",
    "                                                bl.tm.GaussianRandomWalk(sigma=0.03, param='standard deviation'),  # gradual variations of cell speed\n",
    "                                                bl.tm.RegimeSwitch(log10pMin=-7))  # abrupt variations of both parameters\n",
    "S.setTransitionModel(K)\n",
    "\n",
    "# Load trajectories and fit model to them.\n",
    "for i, trajectory in enumerate(trajectories):#[::downsample_steps[category]]):\n",
    "    print '-------------------'\n",
    "    print 'Trajectory {} of {}'.format(i+1, len(trajectories))\n",
    "    print '-------------------'\n",
    "    S.loadData(trajectory)\n",
    "    S.fit()\n",
    "    \n",
    "    # Average parameter denisites over all time steps.\n",
    "    timeAveragedPosteriors.append(np.mean(S.posteriorSequence, axis=0))    \n",
    "    \n",
    "timeAveragedPosteriors = np.array(timeAveragedPosteriors)"
   ]
  },
  {
   "cell_type": "code",
   "execution_count": 7,
   "metadata": {
    "ExecuteTime": {
     "end_time": "2016-03-30T16:10:52.047000",
     "start_time": "2016-03-30T16:10:52.043000"
    },
    "collapsed": true
   },
   "outputs": [],
   "source": [
    "# Helper function to make contour plots of densities.\n",
    "def densityRegion(posterior, alpha, x0=0.0001):\n",
    "    return fmin(lambda h: (np.sum(posterior[posterior > h]) - alpha)**2, x0, xtol=10**-8, ftol=10**-8)[0]"
   ]
  },
  {
   "cell_type": "code",
   "execution_count": 8,
   "metadata": {
    "ExecuteTime": {
     "end_time": "2016-03-30T16:10:53.735000",
     "start_time": "2016-03-30T16:10:53.333000"
    },
    "collapsed": false
   },
   "outputs": [
    {
     "name": "stdout",
     "output_type": "stream",
     "text": [
      "Optimization terminated successfully.\n",
      "         Current function value: 0.000000\n",
      "         Iterations: 20\n",
      "         Function evaluations: 45\n",
      "Optimization terminated successfully.\n",
      "         Current function value: 0.000000\n",
      "         Iterations: 19\n",
      "         Function evaluations: 42\n",
      "Optimization terminated successfully.\n",
      "         Current function value: 0.000000\n",
      "         Iterations: 18\n",
      "         Function evaluations: 40\n"
     ]
    },
    {
     "data": {
      "text/plain": [
       "(0, 1.1)"
      ]
     },
     "execution_count": 8,
     "metadata": {},
     "output_type": "execute_result"
    },
    {
     "data": {
      "image/png": "[encoded data removed]",
      "text/plain": [
       "<matplotlib.figure.Figure at 0x13bf5ad0>"
      ]
     },
     "metadata": {},
     "output_type": "display_data"
    }
   ],
   "source": [
    "# Plot parameter densities for single category.\n",
    "to_plot = np.mean(timeAveragedPosteriors, axis=0)\n",
    "\n",
    "plt.figure(figsize=(4, 4))\n",
    "plt.contour(to_plot.T, [densityRegion(to_plot, alpha) for alpha in [0.10, 0.25, 0.50]],\n",
    "                extent=[-1, 1, 0, 1.5], linewidths=1, colors='k', alpha=0.7)\n",
    "\n",
    "plt.imshow((to_plot.T)**1, origin=0, extent=[-1, 1, 0, 1.5], aspect='auto', \n",
    "           cmap=sns.light_palette('blue', as_cmap=True))#sns.light_palette('red', as_cmap=True))\n",
    "\n",
    "plt.xlabel('Persistence')\n",
    "plt.ylabel(u'Cell speed (\\u00b5m / min)')\n",
    "plt.xlim(-0.6, 1)\n",
    "plt.ylim(0, 1.1)\n",
    "\n",
    "#plt.savefig('plots/density_plastic.png')"
   ]
  },
  {
   "cell_type": "code",
   "execution_count": 9,
   "metadata": {
    "ExecuteTime": {
     "end_time": "2016-03-30T16:11:03.163000",
     "start_time": "2016-03-30T16:11:03.156000"
    },
    "collapsed": true
   },
   "outputs": [],
   "source": [
    "densities_per_category[category] = np.mean(timeAveragedPosteriors, axis=0)"
   ]
  },
  {
   "cell_type": "code",
   "execution_count": 10,
   "metadata": {
    "ExecuteTime": {
     "end_time": "2016-04-02T16:22:00.610000",
     "start_time": "2016-04-02T16:21:59.899000"
    },
    "collapsed": false
   },
   "outputs": [
    {
     "data": {
      "image/png": "[encoded data removed]",
      "text/plain": [
       "<matplotlib.figure.Figure at 0x18640fd0>"
      ]
     },
     "metadata": {},
     "output_type": "display_data"
    }
   ],
   "source": [
    "# Plot parameter densities for all categories in the same plot.\n",
    "\n",
    "plt.figure(figsize=(4, 4))\n",
    "rgb_arr = np.ones((200, 200, 3))\n",
    "\n",
    "max_intensity = 0.7\n",
    "\n",
    "rgb_arr[..., 0] -= max_intensity * densities_per_category['alive'].T / np.max(densities_per_category['alive'])\n",
    "rgb_arr[..., 1] -= max_intensity * densities_per_category['alive'].T / np.max(densities_per_category['alive'])\n",
    "\n",
    "rgb_arr[..., 1] -= max_intensity * densities_per_category['plastic'].T / np.max(densities_per_category['plastic'])\n",
    "rgb_arr[..., 2] -= max_intensity * densities_per_category['plastic'].T / np.max(densities_per_category['plastic'])\n",
    "\n",
    "rgb_arr[..., 0] -= max_intensity * densities_per_category['fibro'].T / np.max(densities_per_category['fibro'])\n",
    "rgb_arr[..., 2] -= max_intensity * densities_per_category['fibro'].T / np.max(densities_per_category['fibro'])\n",
    "\n",
    "rgb_arr = rgb_arr.clip(min=0)\n",
    "\n",
    "plt.imshow(rgb_arr, origin=0, extent=[-1, 1, 0, 1.5], interpolation='none', aspect='auto')\n",
    "    \n",
    "for density in densities_per_category.values():\n",
    "    plt.contour(density.T, [densityRegion(density, alpha) for alpha in [0.10, 0.25, 0.50]],\n",
    "                    extent=[-1, 1, 0, 1.5], linewidths=1, colors='k', alpha=0.7)\n",
    "\n",
    "plt.xlabel('Persistence')\n",
    "plt.ylabel(u'Cell speed (\\u00b5m / min)')\n",
    "\n",
    "plt.xlim(-0.6, 1)\n",
    "plt.ylim(0, 1.1)\n",
    "\n",
    "#Create legend from custom artist/label lists\n",
    "# plt.legend([plt.Rectangle((0, 0), 0, 0, color=color) for color in ((0, 0, 1), (1, 0, 0), (0, 1, 0)) ], \n",
    "#            ['Collagen', 'Plastic', 'Fibronectin'], frameon=False, borderaxespad=3)\n",
    "\n",
    "# plt.savefig('plots/blank_density.png', dpi=300)"
   ]
  },
  {
   "cell_type": "code",
   "execution_count": null,
   "metadata": {
    "ExecuteTime": {
     "end_time": "2016-03-21T15:49:24.393000",
     "start_time": "2016-03-21T15:49:23.906000"
    },
    "collapsed": false
   },
   "outputs": [],
   "source": [
    "# Mean parameter values over time\n",
    "plt.plot(S.posteriorMeanValues[0], label='Mean Persistence')  # first parameter (persistence)\n",
    "plt.plot(S.posteriorMeanValues[1], label='Mean Activity')  # second parameter (cell speed)\n",
    "plt.legend()"
   ]
  },
  {
   "cell_type": "code",
   "execution_count": null,
   "metadata": {
    "collapsed": true
   },
   "outputs": [],
   "source": [
    "# compute mean persistence of cell from parameter distribution and grid\n",
    "print 'Mean persistence = {}'.format(np.sum(averagePosterior*S.grid[0]))"
   ]
  },
  {
   "cell_type": "code",
   "execution_count": null,
   "metadata": {
    "collapsed": true
   },
   "outputs": [],
   "source": []
  }
 ],
 "metadata": {
  "kernelspec": {
   "display_name": "Python 2",
   "language": "python",
   "name": "python2"
  },
  "language_info": {
   "codemirror_mode": {
    "name": "ipython",
    "version": 2
   },
   "file_extension": ".py",
   "mimetype": "text/x-python",
   "name": "python",
   "nbconvert_exporter": "python",
   "pygments_lexer": "ipython2",
   "version": "2.7.8"
  }
 },
 "nbformat": 4,
 "nbformat_minor": 0
}
