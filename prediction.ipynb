{
 "cells": [
  {
   "cell_type": "code",
   "execution_count": 1,
   "metadata": {
    "collapsed": true
   },
   "outputs": [],
   "source": [
    "%matplotlib inline\n",
    "import numpy as np\n",
    "import matplotlib.pyplot as plt\n",
    "import matplotlib"
   ]
  },
  {
   "cell_type": "code",
   "execution_count": 2,
   "metadata": {
    "collapsed": false
   },
   "outputs": [
    {
     "name": "stdout",
     "output_type": "stream",
     "text": [
      "cell001.dat -> 577 time steps\n",
      "cell002.dat -> 577 time steps\n",
      "cell003.dat -> 577 time steps\n",
      "cell004.dat -> 577 time steps\n",
      "cell005.dat -> 577 time steps\n",
      "cell006.dat -> 577 time steps\n",
      "cell007.dat -> 577 time steps\n",
      "cell008.dat -> 577 time steps\n",
      "cell009.dat -> 577 time steps\n",
      "cell010.dat -> 577 time steps\n",
      "cell011.dat -> 577 time steps\n",
      "cell012.dat -> 577 time steps\n",
      "cell013.dat -> 577 time steps\n",
      "cell014.dat -> 577 time steps\n",
      "cell015.dat -> 577 time steps\n",
      "cell016.dat -> 577 time steps\n",
      "cell017.dat -> 577 time steps\n",
      "cell018.dat -> 577 time steps\n",
      "cell019.dat -> 577 time steps\n",
      "cell020.dat -> 577 time steps\n",
      "cell021.dat -> 577 time steps\n",
      "cell022.dat -> 577 time steps\n",
      "cell023.dat -> 577 time steps\n",
      "cell024.dat -> 577 time steps\n",
      "cell025.dat -> 577 time steps\n",
      "cell026.dat -> 577 time steps\n",
      "cell027.dat -> 577 time steps\n",
      "cell028.dat -> 577 time steps\n",
      "cell029.dat -> 577 time steps\n",
      "cell030.dat -> 577 time steps\n",
      "cell031.dat -> 577 time steps\n",
      "cell032.dat -> 577 time steps\n",
      "cell033.dat -> 577 time steps\n",
      "cell034.dat -> 577 time steps\n",
      "cell035.dat -> 577 time steps\n",
      "cell036.dat -> 577 time steps\n",
      "cell037.dat -> 577 time steps\n",
      "cell038.dat -> 577 time steps\n",
      "cell039.dat -> 577 time steps\n",
      "cell040.dat -> 577 time steps\n",
      "cell041.dat -> 577 time steps\n",
      "cell042.dat -> 577 time steps\n",
      "cell043.dat -> 577 time steps\n",
      "cell044.dat -> 577 time steps\n",
      "cell045.dat -> 577 time steps\n",
      "cell046.dat -> 577 time steps\n",
      "cell047.dat -> 577 time steps\n",
      "cell048.dat -> 577 time steps\n",
      "cell049.dat -> 577 time steps\n",
      "cell050.dat -> 577 time steps\n",
      "cell051.dat -> 577 time steps\n",
      "cell052.dat -> 577 time steps\n",
      "cell053.dat -> 577 time steps\n",
      "cell054.dat -> 577 time steps\n",
      "cell055.dat -> 577 time steps\n",
      "cell056.dat -> 577 time steps\n",
      "cell057.dat -> 577 time steps\n",
      "cell058.dat -> 577 time steps\n",
      "cell059.dat -> 577 time steps\n",
      "cell060.dat -> 577 time steps\n",
      "cell061.dat -> 577 time steps\n",
      "cell062.dat -> 577 time steps\n",
      "cell063.dat -> 577 time steps\n",
      "cell064.dat -> 577 time steps\n",
      "cell065.dat -> 577 time steps\n"
     ]
    }
   ],
   "source": [
    "# Read all data files of one category.\n",
    "import os\n",
    "data_dir = 'data/JulianTrajs/alive'\n",
    "trajectories = []  # dimensions: trajectory index -> time step -> coordinate (x, y, z)\n",
    "for filename in os.listdir(data_dir):\n",
    "    print filename, '->',\n",
    "    trajectory = np.genfromtxt(os.path.join(data_dir, filename))\n",
    "    print trajectory.shape[0], 'time steps'\n",
    "    trajectories.append(trajectory)\n",
    "trajectories = np.array(trajectories)"
   ]
  },
  {
   "cell_type": "code",
   "execution_count": 3,
   "metadata": {
    "collapsed": false
   },
   "outputs": [
    {
     "data": {
      "text/plain": [
       "(-1.0, 0.99999999999999978)"
      ]
     },
     "execution_count": 3,
     "metadata": {},
     "output_type": "execute_result"
    }
   ],
   "source": [
    "# Normalize trajectories to [-1, 1] for the LSTM network (it outputs values between -1 and 1 by default).\n",
    "# TODO: Try to change the activation in the LSTM to do this without normalization.\n",
    "min_value = np.min(trajectories)\n",
    "max_value = np.max(trajectories)\n",
    "normalized_trajectories = np.interp(trajectories, [min_value, max_value], [-1., 1.])\n",
    "np.min(normalized_trajectories), np.max(normalized_trajectories)"
   ]
  },
  {
   "cell_type": "code",
   "execution_count": 4,
   "metadata": {
    "collapsed": false
   },
   "outputs": [
    {
     "name": "stdout",
     "output_type": "stream",
     "text": [
      "Created 12090 data samples\n"
     ]
    }
   ],
   "source": [
    "# TODO: Split into training/test data here.\n",
    "# TODO: Possible to use validation data in this scenario?\n",
    "\n",
    "\n",
    "# Split trajectories into short parts following. Save the next position for each part.\n",
    "# See also https://github.com/fchollet/keras/blob/master/examples/lstm_text_generation.py\n",
    "\n",
    "maxlen = 20  # Change this to see how strong the current position depends on the positions long ago. REPHRASE THIS\n",
    "step = 3  # Change this to vary redundancy. \n",
    "mini_trajectories = []\n",
    "next_position = []\n",
    "\n",
    "for trajectory in normalized_trajectories:\n",
    "    for i in range(0, len(trajectory) - maxlen, step):\n",
    "        mini_trajectories.append(trajectory[i:i+maxlen])\n",
    "        next_position.append(trajectory[i+maxlen])\n",
    "        \n",
    "mini_trajectories = np.array(mini_trajectories)\n",
    "next_position = np.array(next_position)\n",
    "\n",
    "print 'Created', len(mini_trajectories), 'data samples'"
   ]
  },
  {
   "cell_type": "code",
   "execution_count": 5,
   "metadata": {
    "collapsed": false
   },
   "outputs": [
    {
     "data": {
      "text/plain": [
       "(array([[ 0.05523622,  0.05523622,  0.05523622],\n",
       "        [ 0.05566071,  0.05779695,  0.05286426],\n",
       "        [ 0.03838752,  0.06534696,  0.02709818],\n",
       "        [ 0.03850322,  0.06699704,  0.02441499],\n",
       "        [ 0.03880855,  0.06863345,  0.0219161 ],\n",
       "        [ 0.03939917,  0.07057156,  0.01970224],\n",
       "        [ 0.03924249,  0.07245225,  0.02243242],\n",
       "        [ 0.03889297,  0.0738549 ,  0.02497102],\n",
       "        [ 0.03828718,  0.06927952,  0.02155214],\n",
       "        [ 0.03810676,  0.0606369 ,  0.02426429],\n",
       "        [ 0.0379032 ,  0.06768063,  0.01555581],\n",
       "        [ 0.03765616,  0.06326114,  0.01819746],\n",
       "        [ 0.03749973,  0.05901885,  0.02092605],\n",
       "        [ 0.03769094,  0.05532332,  0.01830577],\n",
       "        [ 0.03821531,  0.05717232,  0.02172133],\n",
       "        [ 0.04326945,  0.06417255,  0.02396337],\n",
       "        [ 0.04289596,  0.06522634,  0.0207814 ],\n",
       "        [ 0.04248285,  0.06104209,  0.02325294],\n",
       "        [ 0.03706044,  0.05225908,  0.02641301],\n",
       "        [ 0.04223672,  0.05350453,  0.01738139]]),\n",
       " array([ 0.04203707,  0.04959674,  0.01437554]))"
      ]
     },
     "execution_count": 5,
     "metadata": {},
     "output_type": "execute_result"
    }
   ],
   "source": [
    "mini_trajectories[0], next_position[0]"
   ]
  },
  {
   "cell_type": "code",
   "execution_count": 6,
   "metadata": {
    "collapsed": false
   },
   "outputs": [
    {
     "name": "stderr",
     "output_type": "stream",
     "text": [
      "Using Theano backend.\n",
      "D:\\Python\\27_32bit\\lib\\site-packages\\theano\\tensor\\signal\\downsample.py:5: UserWarning: downsample module has been moved to the pool module.\n",
      "  warnings.warn(\"downsample module has been moved to the pool module.\")\n"
     ]
    }
   ],
   "source": [
    "# Set up the network.\n",
    "from keras.models import Sequential\n",
    "from keras.layers import Dense, Activation\n",
    "from keras.layers import LSTM\n",
    "\n",
    "model = Sequential()\n",
    "\n",
    "# TODO: Try stateful for the same trajectory\n",
    "# TODO: Play around with output_dim here. \n",
    "model.add(LSTM(input_shape=(maxlen, 3), output_dim=100, return_sequences=True))\n",
    "model.add(LSTM(output_dim=3, return_sequences=False))\n",
    "# TODO: Add Dropout and more LSTM layers. \n",
    "\n",
    "#model.add(Dropout(0.5))\n",
    "#model.add(Dense(1))\n",
    "#model.add(Activation('sigmoid'))\n",
    "\n",
    "model.compile(loss='mean_squared_error', optimizer='rmsprop')"
   ]
  },
  {
   "cell_type": "code",
   "execution_count": 7,
   "metadata": {
    "collapsed": false
   },
   "outputs": [
    {
     "name": "stdout",
     "output_type": "stream",
     "text": [
      "Epoch 1/2\n",
      "12090/12090 [==============================] - 21s - loss: 0.0049 - acc: 0.8141    \n",
      "Epoch 2/2\n",
      "12090/12090 [==============================] - 27s - loss: 0.0013 - acc: 0.8805    \n"
     ]
    },
    {
     "data": {
      "text/plain": [
       "<keras.callbacks.History at 0x23883c90>"
      ]
     },
     "execution_count": 7,
     "metadata": {},
     "output_type": "execute_result"
    }
   ],
   "source": [
    "# Train the model.\n",
    "\n",
    "model.fit(mini_trajectories, next_position, nb_epoch=2, verbose=1, show_accuracy=True)\n",
    "\n",
    "# TODO: See if GPU is better for RNN (according to keras docs)\n",
    "# TODO: Play with batch_size\n",
    "# TODO: Other implementation: learn on single trajectory, X = trajectory[:-1], y = trajectory[1:], then repeat this for the other trajectories\n",
    "# Input and output dimension 3 in this case; does the network have to be stateful?\n",
    "# TODO: maybe try displacement instead of absolute position"
   ]
  },
  {
   "cell_type": "code",
   "execution_count": 8,
   "metadata": {
    "collapsed": true
   },
   "outputs": [],
   "source": [
    "# Test the model predictions on the training data. \n",
    "predicted = np.interp(model.predict(mini_trajectories), [-1., 1.], [min_value, max_value])\n",
    "expected = np.interp(next_position, [-1., 1.], [min_value, max_value])"
   ]
  },
  {
   "cell_type": "code",
   "execution_count": 9,
   "metadata": {
    "collapsed": false
   },
   "outputs": [
    {
     "data": {
      "text/plain": [
       "[(array([ -0.75435467,  -3.41881737, -16.68801743]),\n",
       "  array([ -5.9775218,  -2.5539599, -18.50465  ])),\n",
       " (array([ -1.03532922,  -4.61531901, -19.08631518]),\n",
       "  array([-11.508915 ,  -9.9777847, -14.942616 ])),\n",
       " (array([ -1.0471354 ,  -7.3686351 , -20.04031357]),\n",
       "  array([-14.409026, -15.472929, -13.91908 ])),\n",
       " (array([ -1.58124432, -11.34438744, -20.9536812 ]),\n",
       "  array([-16.458487, -24.46698 , -17.1917  ])),\n",
       " (array([ -2.27512974, -16.0746605 , -21.83129646]),\n",
       "  array([-16.362498, -25.299648, -15.752455])),\n",
       " (array([ -3.59940567, -21.33231779, -22.70166235]),\n",
       "  array([-17.900795, -31.346534, -10.781697])),\n",
       " (array([ -5.57029675, -27.18637897, -22.62566134]),\n",
       "  array([-17.896284, -36.397257, -12.002794])),\n",
       " (array([ -7.48416457, -32.73457106, -21.8735987 ]),\n",
       "  array([-17.946331, -38.934198, -13.284537])),\n",
       " (array([ -9.08585869, -37.89065693, -21.23006099]),\n",
       "  array([-20.803707, -47.018157, -12.214188])),\n",
       " (array([-10.2753657 , -43.11573588, -20.8156153 ]),\n",
       "  array([-22.121679, -50.310803, -12.187715]))]"
      ]
     },
     "execution_count": 9,
     "metadata": {},
     "output_type": "execute_result"
    }
   ],
   "source": [
    "zip(predicted[:10], expected[:10])"
   ]
  },
  {
   "cell_type": "code",
   "execution_count": 10,
   "metadata": {
    "collapsed": false
   },
   "outputs": [
    {
     "data": {
      "text/plain": [
       "8.3959524515767523"
      ]
     },
     "execution_count": 10,
     "metadata": {},
     "output_type": "execute_result"
    }
   ],
   "source": [
    "# Rough measure for deviation.\n",
    "np.sum(np.abs(predicted - expected)) / len(predicted) / 3."
   ]
  },
  {
   "cell_type": "code",
   "execution_count": 11,
   "metadata": {
    "collapsed": false
   },
   "outputs": [
    {
     "data": {
      "text/plain": [
       "43.062512918279715"
      ]
     },
     "execution_count": 11,
     "metadata": {},
     "output_type": "execute_result"
    }
   ],
   "source": [
    "np.sum(np.abs(expected)) / len(expected) / 3."
   ]
  },
  {
   "cell_type": "code",
   "execution_count": null,
   "metadata": {
    "collapsed": true
   },
   "outputs": [],
   "source": []
  }
 ],
 "metadata": {
  "kernelspec": {
   "display_name": "Python 2",
   "language": "python",
   "name": "python2"
  },
  "language_info": {
   "codemirror_mode": {
    "name": "ipython",
    "version": 2
   },
   "file_extension": ".py",
   "mimetype": "text/x-python",
   "name": "python",
   "nbconvert_exporter": "python",
   "pygments_lexer": "ipython2",
   "version": "2.7.8"
  }
 },
 "nbformat": 4,
 "nbformat_minor": 0
}
