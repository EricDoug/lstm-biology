{
 "cells": [
  {
   "cell_type": "code",
   "execution_count": 1,
   "metadata": {
    "ExecuteTime": {
     "end_time": "2016-04-02T20:07:09.521000",
     "start_time": "2016-04-02T20:07:08.833000"
    },
    "collapsed": true,
    "run_control": {
     "marked": false
    }
   },
   "outputs": [],
   "source": [
    "%matplotlib inline\n",
    "import numpy as np\n",
    "import matplotlib.pyplot as plt\n",
    "import matplotlib"
   ]
  },
  {
   "cell_type": "code",
   "execution_count": 2,
   "metadata": {
    "ExecuteTime": {
     "end_time": "2016-04-02T20:07:12.832000",
     "start_time": "2016-04-02T20:07:10.906000"
    },
    "collapsed": false,
    "run_control": {
     "marked": false
    }
   },
   "outputs": [
    {
     "name": "stdout",
     "output_type": "stream",
     "text": [
      "Category alive: Found 65 files, created 65 trajectories\n",
      "Category plastic: Found 177 files, created 177 trajectories\n",
      "Category fibro: Found 69 files, created 69 trajectories\n"
     ]
    }
   ],
   "source": [
    "# Read all data files of all categories.\n",
    "import os\n",
    "\n",
    "trajectories_per_category = {}\n",
    "categories = ['alive', 'plastic', 'fibro']\n",
    "downsample_steps = {'alive': 2, 'fibro': 5, 'plastic': 5}  # TODO: Rename var.\n",
    "\n",
    "for category in categories:\n",
    "    data_dir = 'data/JulianTrajs/' + category\n",
    "    trajectories_per_category[category] = []  # dimensions: trajectory index -> time step -> coordinate (x, y, z)\n",
    "    filenames = os.listdir(data_dir)\n",
    "    for filename in filenames:\n",
    "        trajectory = np.genfromtxt(os.path.join(data_dir, filename))\n",
    "        trajectories_per_category[category].append(trajectory[::downsample_steps[category]])\n",
    "    trajectories_per_category[category] = np.array(trajectories_per_category[category])\n",
    "    print \"Category {}: Found {} files, created {} trajectories\".format(category, len(filenames), len(trajectories_per_category[category]))"
   ]
  },
  {
   "cell_type": "code",
   "execution_count": 3,
   "metadata": {
    "ExecuteTime": {
     "end_time": "2016-04-02T20:07:16.146000",
     "start_time": "2016-04-02T20:07:16.141000"
    },
    "collapsed": false,
    "hide_input": false,
    "run_control": {
     "marked": false
    }
   },
   "outputs": [],
   "source": [
    "# Convert to velocities (um / min).\n",
    "for category in trajectories_per_category:\n",
    "    trajectories_per_category[category] = np.diff(trajectories_per_category[category], axis=1) / 5."
   ]
  },
  {
   "cell_type": "code",
   "execution_count": 4,
   "metadata": {
    "ExecuteTime": {
     "end_time": "2016-04-02T20:07:17.811000",
     "start_time": "2016-04-02T20:07:17.800000"
    },
    "collapsed": false
   },
   "outputs": [],
   "source": [
    "# Normalize trajectories to [-1, 1] for the LSTM network (it outputs values between -1 and 1 by default).\n",
    "min_value = np.min([np.min(traj) for traj in trajectories_per_category.values()])\n",
    "max_value = np.max([np.max(traj) for traj in trajectories_per_category.values()])\n",
    "for category in trajectories_per_category:\n",
    "    trajectories_per_category[category] = np.interp(trajectories_per_category[category], [min_value, max_value], [-1., 1.])"
   ]
  },
  {
   "cell_type": "code",
   "execution_count": 5,
   "metadata": {
    "ExecuteTime": {
     "end_time": "2016-04-02T20:07:18.855000",
     "start_time": "2016-04-02T20:07:18.852000"
    },
    "collapsed": false
   },
   "outputs": [],
   "source": [
    "def split(arr, fraction):\n",
    "    index_to_split = int(np.rint(fraction * len(arr)))\n",
    "    return arr[:index_to_split], arr[index_to_split:]"
   ]
  },
  {
   "cell_type": "code",
   "execution_count": 6,
   "metadata": {
    "ExecuteTime": {
     "end_time": "2016-04-02T20:07:19.617000",
     "start_time": "2016-04-02T20:07:19.613000"
    },
    "collapsed": false
   },
   "outputs": [],
   "source": [
    "training_trajectories_per_category = {}\n",
    "test_trajectories_per_category = {}\n",
    "for category in categories:\n",
    "    test_trajectories_per_category[category], training_trajectories_per_category[category] = split(trajectories_per_category[category], 0.2)"
   ]
  },
  {
   "cell_type": "code",
   "execution_count": 7,
   "metadata": {
    "ExecuteTime": {
     "end_time": "2016-04-02T20:07:20.572000",
     "start_time": "2016-04-02T20:07:20.566000"
    },
    "collapsed": false
   },
   "outputs": [
    {
     "data": {
      "text/plain": [
       "(13, 288, 3)"
      ]
     },
     "execution_count": 7,
     "metadata": {},
     "output_type": "execute_result"
    }
   ],
   "source": [
    "test_trajectories_per_category['alive'].shape"
   ]
  },
  {
   "cell_type": "code",
   "execution_count": 8,
   "metadata": {
    "ExecuteTime": {
     "end_time": "2016-04-02T20:07:22.838000",
     "start_time": "2016-04-02T20:07:22.834000"
    },
    "collapsed": false
   },
   "outputs": [],
   "source": [
    "def shuffle_together(*args):\n",
    "    rng_state = np.random.get_state()\n",
    "    for arg in args:\n",
    "        np.random.shuffle(arg)\n",
    "        np.random.set_state(rng_state)"
   ]
  },
  {
   "cell_type": "code",
   "execution_count": 9,
   "metadata": {
    "ExecuteTime": {
     "end_time": "2016-04-02T20:07:24.446000",
     "start_time": "2016-04-02T20:07:24.417000"
    },
    "collapsed": true
   },
   "outputs": [],
   "source": [
    "category_to_target = {'alive': 0, 'fibro': 1, 'plastic': 2}\n",
    "target_to_category = {0: 'alive', 1: 'fibro', 2: 'plastic'}\n",
    "\n",
    "def create_mini_trajectories(traj_per_category, length, step):\n",
    "    \n",
    "    mini_trajectories_per_category = {}\n",
    "    \n",
    "    for category in traj_per_category:\n",
    "        mini_trajectories_per_category[category] = []\n",
    "\n",
    "        for trajectory in traj_per_category[category]:\n",
    "            for i in range(0, len(trajectory) - length, step):\n",
    "                mini_trajectories_per_category[category].append(trajectory[i:i+length])\n",
    "\n",
    "        print 'Created {} mini trajectories for {}'.format(len(mini_trajectories_per_category[category]), category)\n",
    "    \n",
    "    mini_trajectories = []\n",
    "    classes = []\n",
    "    for category, mini_traj in mini_trajectories_per_category.items():\n",
    "        np.random.shuffle(mini_traj)\n",
    "        mini_trajectories.extend(mini_traj)\n",
    "        classes.extend([category_to_target[category]] * len(mini_traj))\n",
    "\n",
    "    mini_trajectories = np.array(mini_trajectories)\n",
    "    classes = np.array(classes)\n",
    "    from keras.utils import np_utils\n",
    "    targets = np_utils.to_categorical(classes, 3)\n",
    "\n",
    "    shuffle_together(mini_trajectories, classes, targets)\n",
    "    print 'Total: {} mini trajectories'.format(len(mini_trajectories))\n",
    "    \n",
    "    return mini_trajectories, classes, targets"
   ]
  },
  {
   "cell_type": "code",
   "execution_count": 10,
   "metadata": {
    "ExecuteTime": {
     "end_time": "2016-04-02T20:07:26.071000",
     "start_time": "2016-04-02T20:07:25.945000"
    },
    "collapsed": false
   },
   "outputs": [
    {
     "name": "stdout",
     "output_type": "stream",
     "text": [
      "Created 1870 mini trajectories for fibro\n",
      "Created 2704 mini trajectories for alive\n",
      "Created 4828 mini trajectories for plastic\n",
      "Total: 9402 mini trajectories\n",
      "Created 476 mini trajectories for fibro\n",
      "Created 676 mini trajectories for alive\n",
      "Created 1190 mini trajectories for plastic\n",
      "Total: 2342 mini trajectories\n"
     ]
    }
   ],
   "source": [
    "len_mini_trajectories = 30\n",
    "step = 5\n",
    "training_mini_trajectories, training_classes, training_targets = create_mini_trajectories(training_trajectories_per_category, len_mini_trajectories, step)\n",
    "test_mini_trajectories, test_classes, test_targets = create_mini_trajectories(test_trajectories_per_category, len_mini_trajectories, step)"
   ]
  },
  {
   "cell_type": "code",
   "execution_count": 11,
   "metadata": {
    "ExecuteTime": {
     "end_time": "2016-04-02T20:07:27.724000",
     "start_time": "2016-04-02T20:07:27.719000"
    },
    "collapsed": false
   },
   "outputs": [
    {
     "data": {
      "text/plain": [
       "{0: 0.0003698224852071006, 1: 0.0005347593582887701, 2: 0.00020712510356255177}"
      ]
     },
     "execution_count": 11,
     "metadata": {},
     "output_type": "execute_result"
    }
   ],
   "source": [
    "class_weights = {}\n",
    "for which_class in [0, 1, 2]:\n",
    "    class_weights[which_class] = 1. / np.sum(training_classes == which_class)\n",
    "class_weights"
   ]
  },
  {
   "cell_type": "code",
   "execution_count": 12,
   "metadata": {
    "ExecuteTime": {
     "end_time": "2016-04-02T20:08:26.707000",
     "start_time": "2016-04-02T20:07:32.819000"
    },
    "collapsed": false
   },
   "outputs": [
    {
     "name": "stderr",
     "output_type": "stream",
     "text": [
      "Using Theano backend.\n",
      "D:\\Python\\27_32bit\\lib\\site-packages\\theano\\tensor\\signal\\downsample.py:5: UserWarning: downsample module has been moved to the pool module.\n",
      "  warnings.warn(\"downsample module has been moved to the pool module.\")\n"
     ]
    }
   ],
   "source": [
    "# Set up the network.\n",
    "from keras.models import Sequential\n",
    "from keras.layers import Dense, Activation, Dropout\n",
    "from keras.layers import LSTM\n",
    "\n",
    "model = Sequential()\n",
    "model.add(LSTM(input_dim=3, output_dim=10, return_sequences=False))\n",
    "#model.add(LSTM(output_dim=10, return_sequences=False))\n",
    "#model.add(LSTM(output_dim=30, return_sequences=False))\n",
    "model.add(Dense(output_dim=3))\n",
    "model.add(Activation('softmax'))\n",
    "\n",
    "model.compile(loss='categorical_crossentropy', optimizer='rmsprop')"
   ]
  },
  {
   "cell_type": "code",
   "execution_count": 13,
   "metadata": {
    "ExecuteTime": {
     "end_time": "2016-04-02T20:08:26.726000",
     "start_time": "2016-04-02T20:08:26.709000"
    },
    "collapsed": true
   },
   "outputs": [],
   "source": [
    "# Callback to evaluate accuracy for each class during training. \n",
    "from keras.callbacks import Callback\n",
    "class ClassHistory(Callback):\n",
    "    def on_train_begin(self, logs={}):\n",
    "        self.acc_per_category = {'alive': [], 'fibro': [], 'plastic': []}\n",
    "        self.val_acc_per_category = {'alive': [], 'fibro': [], 'plastic': []}\n",
    "        \n",
    "    def on_epoch_end(self, epoch, logs={}):\n",
    "        training_predicted = self.model.predict_classes(training_mini_trajectories, verbose=0)\n",
    "        test_predicted = self.model.predict_classes(test_mini_trajectories, verbose=0)\n",
    "        for category in categories:\n",
    "            which_class = category_to_target[category]\n",
    "            acc = 1. * np.sum(training_predicted[training_classes == which_class] == which_class) / len(training_predicted[training_classes == which_class])\n",
    "            val_acc = 1. * np.sum(test_predicted[test_classes == which_class] == which_class) / len(test_predicted[test_classes == which_class])\n",
    "            self.acc_per_category[category].append(acc)\n",
    "            self.val_acc_per_category[category].append(val_acc)\n",
    "            \n",
    "            \n",
    "history_per_category = ClassHistory()"
   ]
  },
  {
   "cell_type": "code",
   "execution_count": null,
   "metadata": {
    "ExecuteTime": {
     "start_time": "2016-04-02T18:07:46.335Z"
    },
    "collapsed": true
   },
   "outputs": [],
   "source": [
    "accs = []\n",
    "accs_per_category = {'alive': [], 'fibro': [], 'plastic': []}\n",
    "val_accs = []"
   ]
  },
  {
   "cell_type": "code",
   "execution_count": null,
   "metadata": {
    "ExecuteTime": {
     "start_time": "2016-04-02T18:07:52.149Z"
    },
    "collapsed": false,
    "scrolled": true
   },
   "outputs": [
    {
     "name": "stdout",
     "output_type": "stream",
     "text": [
      "Train on 9402 samples, validate on 2342 samples\n",
      "Epoch 1/100\n",
      "9402/9402 [==============================] - 9s - loss: 1.0249 - acc: 0.5129 - val_loss: 1.0231 - val_acc: 0.5081\n",
      "Epoch 2/100\n",
      "9402/9402 [==============================] - 10s - loss: 1.0169 - acc: 0.5155 - val_loss: 1.0153 - val_acc: 0.5141\n",
      "Epoch 3/100\n",
      "5760/9402 [=================>............] - ETA: 5s - loss: 1.0133 - acc: 0.5165"
     ]
    }
   ],
   "source": [
    "hist = model.fit(training_mini_trajectories, training_targets, \n",
    "                 batch_size=15, nb_epoch=100, \n",
    "                 verbose=1, show_accuracy=True, validation_data=(test_mini_trajectories, test_targets), callbacks=[history_per_category])\n",
    "\n",
    "accs.extend(hist.history['acc'])\n",
    "val_accs.extend(hist.history['val_acc'])\n",
    "for category in accs_per_category:\n",
    "    accs_per_category[category].extend(history_per_category.acc_per_category[category])"
   ]
  },
  {
   "cell_type": "code",
   "execution_count": 114,
   "metadata": {
    "ExecuteTime": {
     "end_time": "2016-04-02T17:12:55.100000",
     "start_time": "2016-04-02T17:12:54.660000"
    },
    "collapsed": false
   },
   "outputs": [
    {
     "data": {
      "text/plain": [
       "<matplotlib.legend.Legend at 0x3784fa70>"
      ]
     },
     "execution_count": 114,
     "metadata": {},
     "output_type": "execute_result"
    },
    {
     "data": {
      "image/png": "[encoded data removed]",
      "text/plain": [
       "<matplotlib.figure.Figure at 0x3784f990>"
      ]
     },
     "metadata": {},
     "output_type": "display_data"
    }
   ],
   "source": [
    "# Plot accuracy over epochs.\n",
    "plt.plot(range(1, len(accs) + 1), accs, label='Training')\n",
    "plt.plot(range(1, len(val_accs) + 1), val_accs, label='Test')\n",
    "plt.xlabel('Epoch')\n",
    "plt.ylabel('Accuracy')\n",
    "plt.legend(loc='lower right')\n",
    "\n",
    "#plt.xlim(60, 100)\n",
    "#plt.ylim(0.9, 1)"
   ]
  },
  {
   "cell_type": "code",
   "execution_count": 115,
   "metadata": {
    "ExecuteTime": {
     "end_time": "2016-04-02T17:13:09.921000",
     "start_time": "2016-04-02T17:13:09.515000"
    },
    "collapsed": false
   },
   "outputs": [
    {
     "data": {
      "text/plain": [
       "<matplotlib.legend.Legend at 0x380a98b0>"
      ]
     },
     "execution_count": 115,
     "metadata": {},
     "output_type": "execute_result"
    },
    {
     "data": {
      "image/png": "[encoded data removed]",
      "text/plain": [
       "<matplotlib.figure.Figure at 0x380a96b0>"
      ]
     },
     "metadata": {},
     "output_type": "display_data"
    }
   ],
   "source": [
    "# Plot accuracy over epochs for each class.\n",
    "names = {'alive': 'Collagen', 'fibro': 'Fibronectin', 'plastic': 'Plastic'}\n",
    "\n",
    "#plt.plot(range(1, len(accs) + 1), accs, 'k', label='Overall')\n",
    "\n",
    "for category in ['alive', 'fibro', 'plastic']:\n",
    "    plt.plot(range(1, len(accs_per_category[category]) - 1), accs_per_category[category][:-2], '-', label=names[category])\n",
    "    \n",
    "plt.ylim(0, 1)\n",
    "plt.xlim(1, len(accs_per_category['alive'])-2)\n",
    "\n",
    "plt.xlabel('Epoch')\n",
    "plt.ylabel('Accuracy')\n",
    "plt.legend(loc='lower right')\n",
    "\n",
    "#plt.savefig('plots/classes.png', dpi=300)"
   ]
  },
  {
   "cell_type": "code",
   "execution_count": 22,
   "metadata": {
    "ExecuteTime": {
     "end_time": "2016-04-01T21:14:03.694000",
     "start_time": "2016-04-01T21:14:02.531000"
    },
    "collapsed": false
   },
   "outputs": [
    {
     "name": "stdout",
     "output_type": "stream",
     "text": [
      "Class 0: 0.000\n",
      "Class 1: 0.002\n",
      "Class 2: 0.998\n",
      "Is Class 2\n"
     ]
    },
    {
     "data": {
      "image/png": "[encoded data removed]",
      "text/plain": [
       "<matplotlib.figure.Figure at 0x21482fd0>"
      ]
     },
     "metadata": {},
     "output_type": "display_data"
    }
   ],
   "source": [
    "# Test on a random mini trajectory from the test dataset.\n",
    "i = np.random.randint(len(test_mini_trajectories))\n",
    "# TODO: Check if this is correct; most trajectories seem to go to the top right.\n",
    "reconstructed_trajectory = np.cumsum(test_mini_trajectories[i], axis=0) - test_mini_trajectories[i, 0]\n",
    "plt.plot(reconstructed_trajectory[:, 0], reconstructed_trajectory[:, 1])\n",
    "plt.xlim(-1.5, 1.5)\n",
    "plt.ylim(-1.5, 1.5)\n",
    "\n",
    "probabilities, = model.predict(test_mini_trajectories[i:i+1])\n",
    "\n",
    "for cat, prob in enumerate(probabilities):    \n",
    "    print 'Class {}: {:.3f}'.format(cat, prob)    \n",
    "        \n",
    "print 'Is Class', test_classes[i]"
   ]
  },
  {
   "cell_type": "code",
   "execution_count": 72,
   "metadata": {
    "ExecuteTime": {
     "end_time": "2016-04-01T23:35:22.082000",
     "start_time": "2016-04-01T23:35:20.156000"
    },
    "collapsed": false
   },
   "outputs": [
    {
     "name": "stdout",
     "output_type": "stream",
     "text": [
      "Overall accuracy:               Training: 0.946, Test: 0.936\n",
      "Accuracy for class 0 ( alive ): Training: 0.991, Test: 1.000\n",
      "Accuracy for class 1 ( fibro ): Training: 0.827, Test: 0.803\n",
      "Accuracy for class 2 (plastic): Training: 0.967, Test: 0.953\n"
     ]
    }
   ],
   "source": [
    "# Evaluate accuracy for each class. \n",
    "training_predicted = model.predict_classes(training_mini_trajectories, verbose=0)\n",
    "test_predicted = model.predict_classes(test_mini_trajectories, verbose=0)\n",
    "\n",
    "training_acc = 1. * np.sum(training_predicted == training_classes) / len(training_predicted)\n",
    "test_acc = 1. * np.sum(test_predicted == test_classes) / len(test_predicted)\n",
    "print 'Overall accuracy:               Training: {:.3f}, Test: {:.3f}'.format(training_acc, test_acc)\n",
    "\n",
    "for which_class in [0, 1, 2]:\n",
    "    training_acc = 1. * np.sum(training_predicted[training_classes == which_class] == which_class) / len(training_predicted[training_classes == which_class])\n",
    "    test_acc = 1. * np.sum(test_predicted[test_classes == which_class] == which_class) / len(test_predicted[test_classes == which_class])\n",
    "    print 'Accuracy for class {} ({:^7}): Training: {:.3f}, Test: {:.3f}'.format(which_class, target_to_category[which_class], training_acc, test_acc)"
   ]
  },
  {
   "cell_type": "code",
   "execution_count": 116,
   "metadata": {
    "ExecuteTime": {
     "end_time": "2016-04-02T17:13:34.782000",
     "start_time": "2016-04-02T17:13:23.332000"
    },
    "collapsed": false,
    "scrolled": true
   },
   "outputs": [
    {
     "name": "stdout",
     "output_type": "stream",
     "text": [
      "Created 2758 mini trajectories for fibro\n",
      "Created 3718 mini trajectories for alive\n",
      "Created 6895 mini trajectories for plastic\n",
      "Total: 13371 mini trajectories\n",
      "Created 2688 mini trajectories for fibro\n",
      "Created 3653 mini trajectories for alive\n",
      "Created 6720 mini trajectories for plastic\n",
      "Total: 13061 mini trajectories\n",
      "Created 1316 mini trajectories for fibro\n",
      "Created 1794 mini trajectories for alive\n",
      "Created 3290 mini trajectories for plastic\n",
      "Total: 6400 mini trajectories\n",
      "Created 854 mini trajectories for fibro\n",
      "Created 1183 mini trajectories for alive\n",
      "Created 2135 mini trajectories for plastic\n",
      "Total: 4172 mini trajectories\n",
      "Created 630 mini trajectories for fibro\n",
      "Created 871 mini trajectories for alive\n",
      "Created 1575 mini trajectories for plastic\n",
      "Total: 3076 mini trajectories\n",
      "Created 490 mini trajectories for fibro\n",
      "Created 689 mini trajectories for alive\n",
      "Created 1225 mini trajectories for plastic\n",
      "Total: 2404 mini trajectories\n",
      "Created 392 mini trajectories for fibro\n",
      "Created 559 mini trajectories for alive\n",
      "Created 980 mini trajectories for plastic\n",
      "Total: 1931 mini trajectories\n",
      "Created 336 mini trajectories for fibro\n",
      "Created 468 mini trajectories for alive\n",
      "Created 840 mini trajectories for plastic\n",
      "Total: 1644 mini trajectories\n",
      "Created 280 mini trajectories for fibro\n",
      "Created 403 mini trajectories for alive\n",
      "Created 700 mini trajectories for plastic\n",
      "Total: 1383 mini trajectories\n",
      "Created 238 mini trajectories for fibro\n",
      "Created 351 mini trajectories for alive\n",
      "Created 595 mini trajectories for plastic\n",
      "Total: 1184 mini trajectories\n",
      "Created 210 mini trajectories for fibro\n",
      "Created 312 mini trajectories for alive\n",
      "Created 525 mini trajectories for plastic\n",
      "Total: 1047 mini trajectories\n",
      "Created 182 mini trajectories for fibro\n",
      "Created 273 mini trajectories for alive\n",
      "Created 455 mini trajectories for plastic\n",
      "Total: 910 mini trajectories\n",
      "Created 168 mini trajectories for fibro\n",
      "Created 247 mini trajectories for alive\n",
      "Created 420 mini trajectories for plastic\n",
      "Total: 835 mini trajectories\n",
      "Created 154 mini trajectories for fibro\n",
      "Created 221 mini trajectories for alive\n",
      "Created 385 mini trajectories for plastic\n",
      "Total: 760 mini trajectories\n",
      "Created 140 mini trajectories for fibro\n",
      "Created 208 mini trajectories for alive\n",
      "Created 350 mini trajectories for plastic\n",
      "Total: 698 mini trajectories\n",
      "Created 126 mini trajectories for fibro\n",
      "Created 195 mini trajectories for alive\n",
      "Created 315 mini trajectories for plastic\n",
      "Total: 636 mini trajectories\n",
      "Created 112 mini trajectories for fibro\n",
      "Created 169 mini trajectories for alive\n",
      "Created 280 mini trajectories for plastic\n",
      "Total: 561 mini trajectories\n",
      "Created 98 mini trajectories for fibro\n",
      "Created 156 mini trajectories for alive\n",
      "Created 245 mini trajectories for plastic\n",
      "Total: 499 mini trajectories\n",
      "Created 84 mini trajectories for fibro\n",
      "Created 143 mini trajectories for alive\n",
      "Created 210 mini trajectories for plastic\n",
      "Total: 437 mini trajectories\n",
      "Created 84 mini trajectories for fibro\n",
      "Created 143 mini trajectories for alive\n",
      "Created 210 mini trajectories for plastic\n",
      "Total: 437 mini trajectories\n",
      "Created 70 mini trajectories for fibro\n",
      "Created 130 mini trajectories for alive\n",
      "Created 175 mini trajectories for plastic\n",
      "Total: 375 mini trajectories\n",
      "Created 70 mini trajectories for fibro\n",
      "Created 117 mini trajectories for alive\n",
      "Created 175 mini trajectories for plastic\n",
      "Total: 362 mini trajectories\n",
      "Created 56 mini trajectories for fibro\n",
      "Created 104 mini trajectories for alive\n",
      "Created 140 mini trajectories for plastic\n",
      "Total: 300 mini trajectories\n",
      "Created 56 mini trajectories for fibro\n",
      "Created 104 mini trajectories for alive\n",
      "Created 140 mini trajectories for plastic\n",
      "Total: 300 mini trajectories\n"
     ]
    }
   ],
   "source": [
    "# Evaluate accuracy for trajectories of different lengths (ie with different numbers of time steps).\n",
    "\n",
    "# According to the RBM thesis, the data should be correlated for 3 to 7 (corrected) time steps. \n",
    "# See details for each category in the thesis - can we replicate this with the NN?\n",
    "\n",
    "#mini_trajectories_per_length = {}\n",
    "len_accs_per_category = {'alive': [], 'fibro': [], 'plastic': []}\n",
    "lengths = range(2, 120, 5)\n",
    "for length in lengths:\n",
    "    # TODO: Use training or test here?\n",
    "    mini_trajectories, classes, targets = create_mini_trajectories(test_trajectories_per_category, length, int(max(1., length / 5.)))\n",
    "    predicted = model.predict_classes(mini_trajectories, verbose=0)\n",
    "    for category in categories:\n",
    "        which_class = category_to_target[category]\n",
    "        acc = 1. * np.sum(predicted[classes == which_class] == which_class) / len(predicted[classes == which_class])\n",
    "        len_accs_per_category[category].append(acc)\n",
    "\n",
    "# TODO: Make plot of raw probabilities over trajectory length."
   ]
  },
  {
   "cell_type": "code",
   "execution_count": 117,
   "metadata": {
    "ExecuteTime": {
     "end_time": "2016-04-02T17:13:35.110000",
     "start_time": "2016-04-02T17:13:34.785000"
    },
    "collapsed": false
   },
   "outputs": [
    {
     "data": {
      "text/plain": [
       "<matplotlib.legend.Legend at 0x33716950>"
      ]
     },
     "execution_count": 117,
     "metadata": {},
     "output_type": "execute_result"
    },
    {
     "data": {
      "image/png": "[encoded data removed]",
      "text/plain": [
       "<matplotlib.figure.Figure at 0x36b40c30>"
      ]
     },
     "metadata": {},
     "output_type": "display_data"
    }
   ],
   "source": [
    "for category in ['alive', 'fibro', 'plastic']:\n",
    "    plt.plot(lengths, len_accs_per_category[category], 'o-', label=names[category])\n",
    "plt.xlabel('Trajectory length')\n",
    "plt.ylabel('Accuracy')\n",
    "plt.ylim(0, 1)\n",
    "plt.legend(loc='lower right', numpoints=1)\n",
    "\n",
    "#plt.savefig('plots/length.png', dpi=300)"
   ]
  },
  {
   "cell_type": "code",
   "execution_count": null,
   "metadata": {
    "collapsed": true
   },
   "outputs": [],
   "source": [
    "# Possible parameters for future hyperparemeter optimzation:\n",
    "# - mini trajectory length\n",
    "# - mini trajectory step\n",
    "# - output_dim\n",
    "# - number of LSTM layers\n",
    "# - rmsprop parameters\n",
    "# - batch_size\n",
    "# - activation/internal parameters of LSTM"
   ]
  },
  {
   "cell_type": "code",
   "execution_count": null,
   "metadata": {
    "collapsed": true
   },
   "outputs": [],
   "source": [
    "# Save model to file.\n",
    "open('model/my_model_architecture.json', 'w').write(model.to_json())\n",
    "model.save_weights('model/my_model_weights.h5')"
   ]
  },
  {
   "cell_type": "code",
   "execution_count": null,
   "metadata": {
    "collapsed": false
   },
   "outputs": [],
   "source": [
    "# Load model from file.\n",
    "from keras.models import model_from_json\n",
    "model = model_from_json(open('model/my_model_architecture.json').read())\n",
    "model.load_weights('model/my_model_weights.h5')"
   ]
  },
  {
   "cell_type": "code",
   "execution_count": null,
   "metadata": {
    "collapsed": true
   },
   "outputs": [],
   "source": []
  }
 ],
 "metadata": {
  "kernelspec": {
   "display_name": "Python 2",
   "language": "python",
   "name": "python2"
  },
  "language_info": {
   "codemirror_mode": {
    "name": "ipython",
    "version": 2
   },
   "file_extension": ".py",
   "mimetype": "text/x-python",
   "name": "python",
   "nbconvert_exporter": "python",
   "pygments_lexer": "ipython2",
   "version": "2.7.8"
  },
  "notify_time": "30"
 },
 "nbformat": 4,
 "nbformat_minor": 0
}
