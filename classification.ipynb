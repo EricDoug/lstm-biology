{
 "cells": [
  {
   "cell_type": "code",
   "execution_count": 1,
   "metadata": {
    "ExecuteTime": {
     "end_time": "2016-03-13T20:29:30.701000",
     "start_time": "2016-03-13T20:29:29.812000"
    },
    "collapsed": true,
    "run_control": {
     "marked": false
    }
   },
   "outputs": [],
   "source": [
    "%matplotlib inline\n",
    "import numpy as np\n",
    "import matplotlib.pyplot as plt\n",
    "import matplotlib"
   ]
  },
  {
   "cell_type": "code",
   "execution_count": 2,
   "metadata": {
    "ExecuteTime": {
     "end_time": "2016-03-13T20:29:35.201000",
     "start_time": "2016-03-13T20:29:32.078000"
    },
    "collapsed": false,
    "run_control": {
     "marked": false
    }
   },
   "outputs": [
    {
     "name": "stdout",
     "output_type": "stream",
     "text": [
      "Category alive: Found 65 files, created 130 trajectories\n",
      "Category fibro: Found 69 files, created 345 trajectories\n",
      "Category plastic: Found 177 files, created 885 trajectories\n"
     ]
    }
   ],
   "source": [
    "# Read all data files of one category.\n",
    "import os\n",
    "\n",
    "trajectories_per_category = {}\n",
    "categories = ['alive', 'fibro', 'plastic']\n",
    "downsample_steps = [2, 5, 5]\n",
    "for category, downsample_step in zip(categories, downsample_steps):\n",
    "    data_dir = 'data/JulianTrajs/' + category\n",
    "    trajectories_per_category[category] = []  # dimensions: trajectory index -> time step -> coordinate (x, y, z)\n",
    "    filenames = os.listdir(data_dir)    \n",
    "    for filename in filenames:\n",
    "        trajectory = np.genfromtxt(os.path.join(data_dir, filename))\n",
    "        for start in range(downsample_step):\n",
    "            end = -(downsample_step - start)\n",
    "            sliced_trajectory = trajectory[start:end:downsample_step]\n",
    "            trajectories_per_category[category].append(sliced_trajectory)\n",
    "    trajectories_per_category[category] = np.array(trajectories_per_category[category])\n",
    "    print \"Category {}: Found {} files, created {} trajectories\".format(category, len(filenames), len(trajectories_per_category[category]))"
   ]
  },
  {
   "cell_type": "code",
   "execution_count": 3,
   "metadata": {
    "ExecuteTime": {
     "end_time": "2016-03-13T20:29:36.608000",
     "start_time": "2016-03-13T20:29:36.593000"
    },
    "collapsed": false,
    "hide_input": false,
    "run_control": {
     "marked": false
    }
   },
   "outputs": [],
   "source": [
    "# Convert to velocities (um / min).\n",
    "for category in trajectories_per_category:\n",
    "    trajectories_per_category[category] = np.diff(trajectories_per_category[category], axis=1) / 5."
   ]
  },
  {
   "cell_type": "code",
   "execution_count": 4,
   "metadata": {
    "ExecuteTime": {
     "end_time": "2016-03-13T20:29:43.080000",
     "start_time": "2016-03-13T20:29:43.050000"
    },
    "collapsed": false
   },
   "outputs": [],
   "source": [
    "# Normalize trajectories to [-1, 1] for the LSTM network (it outputs values between -1 and 1 by default)\n",
    "# TODO: Do not use min/max values here but fixed value to generalize to other datasets.\n",
    "min_value = np.min([np.min(traj) for traj in trajectories_per_category.values()])\n",
    "max_value = np.max([np.max(traj) for traj in trajectories_per_category.values()])\n",
    "for category in trajectories_per_category:\n",
    "    trajectories_per_category[category] = np.interp(trajectories_per_category[category], [min_value, max_value], [-1., 1.])"
   ]
  },
  {
   "cell_type": "code",
   "execution_count": 5,
   "metadata": {
    "ExecuteTime": {
     "end_time": "2016-03-13T20:29:45.429000",
     "start_time": "2016-03-13T20:29:45.427000"
    },
    "collapsed": true
   },
   "outputs": [],
   "source": [
    "# TODO: Split the original trajectories into training/test so we can use the same split for mini trajectories of different sizes.\n",
    "# TODO: Use seed when shuffling so we always get the same training/test split."
   ]
  },
  {
   "cell_type": "code",
   "execution_count": 6,
   "metadata": {
    "ExecuteTime": {
     "end_time": "2016-03-13T20:29:46.295000",
     "start_time": "2016-03-13T20:29:46.291000"
    },
    "collapsed": false
   },
   "outputs": [],
   "source": [
    "def shuffle_together(*args):\n",
    "    rng_state = np.random.get_state()\n",
    "    for arg in args:\n",
    "        np.random.shuffle(arg)\n",
    "        np.random.set_state(rng_state)"
   ]
  },
  {
   "cell_type": "code",
   "execution_count": 7,
   "metadata": {
    "ExecuteTime": {
     "end_time": "2016-03-13T20:29:46.896000",
     "start_time": "2016-03-13T20:29:46.892000"
    },
    "collapsed": false
   },
   "outputs": [],
   "source": [
    "def split(arr, fraction):\n",
    "    index_to_split = int(np.rint(fraction * len(arr)))\n",
    "    return arr[:index_to_split], arr[index_to_split:]"
   ]
  },
  {
   "cell_type": "code",
   "execution_count": 8,
   "metadata": {
    "ExecuteTime": {
     "end_time": "2016-03-13T20:29:53.845000",
     "start_time": "2016-03-13T20:29:53.441000"
    },
    "collapsed": false,
    "run_control": {
     "marked": false
    }
   },
   "outputs": [
    {
     "name": "stdout",
     "output_type": "stream",
     "text": [
      "Created 13110 mini trajectories for fibro\n",
      "Created 7280 mini trajectories for alive\n",
      "Created 33630 mini trajectories for plastic\n",
      "Taking 7280 mini trajectories for each category --> Total: 21840\n"
     ]
    }
   ],
   "source": [
    "len_mini_trajectories = 10\n",
    "# TODO: Maybe train on mini trajectories of different sizes, so the nn learns to generalize on arbitrarily long trajectories.\n",
    "step = 5\n",
    "\n",
    "mini_trajectories_per_category = {}\n",
    "category_to_target = {'alive': 0, 'fibro': 1, 'plastic': 2}\n",
    "target_to_category = {0: 'alive', 1: 'fibro', 2: 'plastic'}\n",
    "\n",
    "for category in trajectories_per_category:\n",
    "    \n",
    "    mini_trajectories_per_category[category] = []\n",
    "    \n",
    "    for trajectory in trajectories_per_category[category]:\n",
    "        for i in range(0, len(trajectory) - len_mini_trajectories, step):\n",
    "            mini_trajectories_per_category[category].append(trajectory[i:i+len_mini_trajectories])# - trajectory[i])  # Set start of mini trajectory to origin.\n",
    "            \n",
    "    print 'Created {} mini trajectories for {}'.format(len(mini_trajectories_per_category[category]), category)\n",
    "    \n",
    "# Take the same number of trajectories per category so we train equal on all categories.\n",
    "num_mini_trajectories_per_category = np.min([len(arr) for arr in mini_trajectories_per_category.values()])\n",
    "\n",
    "mini_trajectories = []\n",
    "classes = []\n",
    "for category, mini_traj in mini_trajectories_per_category.items():\n",
    "    np.random.shuffle(mini_traj)\n",
    "    mini_trajectories.extend(mini_traj[:num_mini_trajectories_per_category])\n",
    "    classes.extend([category_to_target[category]] * num_mini_trajectories_per_category)\n",
    "\n",
    "mini_trajectories = np.array(mini_trajectories)\n",
    "classes = np.array(classes)\n",
    "from keras.utils import np_utils\n",
    "targets = np_utils.to_categorical(classes, 3)\n",
    "\n",
    "# TODO: Take different mini trajectories for each epoch to learn on all data, not just a subset.\n",
    "# Or just take the small dataset multiple times for the mini trajectories.\n",
    "\n",
    "shuffle_together(mini_trajectories, classes, targets)\n",
    "\n",
    "print 'Taking {} mini trajectories for each category --> Total: {}'.format(num_mini_trajectories_per_category, len(mini_trajectories))   "
   ]
  },
  {
   "cell_type": "code",
   "execution_count": 9,
   "metadata": {
    "ExecuteTime": {
     "end_time": "2016-03-13T20:29:55.995000",
     "start_time": "2016-03-13T20:29:55.986000"
    },
    "collapsed": true
   },
   "outputs": [],
   "source": [
    "# TODO: Split validation dataset here and pass it to fit function via validation_data parameter.\n",
    "test_mini_trajectories, training_mini_trajectories = split(mini_trajectories, 0.1)\n",
    "test_classes, training_classes = split(classes, 0.1)\n",
    "test_targets, training_targets = split(targets, 0.1)"
   ]
  },
  {
   "cell_type": "code",
   "execution_count": 10,
   "metadata": {
    "ExecuteTime": {
     "end_time": "2016-03-13T20:32:13.334000",
     "start_time": "2016-03-13T20:30:02.887000"
    },
    "collapsed": false
   },
   "outputs": [
    {
     "name": "stderr",
     "output_type": "stream",
     "text": [
      "Using Theano backend.\n",
      "D:\\Python\\27_32bit\\lib\\site-packages\\theano\\tensor\\signal\\downsample.py:5: UserWarning: downsample module has been moved to the pool module.\n",
      "  warnings.warn(\"downsample module has been moved to the pool module.\")\n"
     ]
    }
   ],
   "source": [
    "# Set up the network.\n",
    "from keras.models import Sequential\n",
    "from keras.layers import Dense, Activation, Dropout\n",
    "from keras.layers import LSTM\n",
    "\n",
    "model = Sequential()\n",
    "\n",
    "# TODO: Train with different number of LSTM layers and LSTM layer sizes and compare accuracy.\n",
    "model.add(LSTM(input_dim=3, output_dim=10, return_sequences=True))\n",
    "#model.add(Dropout(0.05))\n",
    "#model.add(LSTM(output_dim=10, return_sequences=True))\n",
    "model.add(LSTM(output_dim=10, return_sequences=False))\n",
    "#model.add(Dropout(0.05))\n",
    "model.add(Dense(output_dim=3))\n",
    "model.add(Activation('softmax'))\n",
    "\n",
    "# TODO: Add Dropout and more LSTM layers. \n",
    "\n",
    "model.compile(loss='categorical_crossentropy', optimizer='rmsprop')"
   ]
  },
  {
   "cell_type": "code",
   "execution_count": 11,
   "metadata": {
    "ExecuteTime": {
     "end_time": "2016-03-13T20:32:13.349000",
     "start_time": "2016-03-13T20:32:13.337000"
    },
    "collapsed": true
   },
   "outputs": [],
   "source": [
    "# Callback to evaluate accuracy for each class during training. \n",
    "from keras.callbacks import Callback\n",
    "class ClassHistory(Callback):\n",
    "    def on_train_begin(self, logs={}):\n",
    "        self.class_acc = [[], [], []]\n",
    "        \n",
    "    def on_epoch_end(self, epoch, logs={}):\n",
    "        training_predicted = self.model.predict_classes(training_mini_trajectories, verbose=0)\n",
    "        for which_class in [0, 1, 2]:\n",
    "            training_acc = 1. * np.sum(training_predicted[training_classes == which_class] == which_class) / len(training_predicted[training_classes == which_class])\n",
    "            self.class_acc[which_class].append(training_acc)\n",
    "            \n",
    "classHistory = ClassHistory()"
   ]
  },
  {
   "cell_type": "code",
   "execution_count": null,
   "metadata": {
    "ExecuteTime": {
     "start_time": "2016-03-13T20:27:08.079Z"
    },
    "collapsed": false
   },
   "outputs": [
    {
     "name": "stdout",
     "output_type": "stream",
     "text": [
      "Train on 18673 samples, validate on 983 samples\n",
      "Epoch 1/50\n",
      "18673/18673 [==============================] - 32s - loss: 0.2500 - acc: 0.9005 - val_loss: 0.2479 - val_acc: 0.9054\n",
      "Epoch 2/50\n",
      "18673/18673 [==============================] - 32s - loss: 0.2495 - acc: 0.9010 - val_loss: 0.2431 - val_acc: 0.9125\n",
      "Epoch 3/50\n",
      "18673/18673 [==============================] - 33s - loss: 0.2488 - acc: 0.9013 - val_loss: 0.2715 - val_acc: 0.8942\n",
      "Epoch 4/50\n",
      "18673/18673 [==============================] - 27s - loss: 0.2470 - acc: 0.9036 - val_loss: 0.2616 - val_acc: 0.8840\n",
      "Epoch 5/50\n",
      "18673/18673 [==============================] - 28s - loss: 0.2466 - acc: 0.9035 - val_loss: 0.2480 - val_acc: 0.9074\n",
      "Epoch 6/50\n",
      "18673/18673 [==============================] - 28s - loss: 0.2448 - acc: 0.9040 - val_loss: 0.2625 - val_acc: 0.8911\n",
      "Epoch 7/50\n",
      "18673/18673 [==============================] - 28s - loss: 0.2430 - acc: 0.9038 - val_loss: 0.2342 - val_acc: 0.9095\n",
      "Epoch 8/50\n",
      "18673/18673 [==============================] - 29s - loss: 0.2434 - acc: 0.9029 - val_loss: 0.2713 - val_acc: 0.8901\n",
      "Epoch 9/50\n",
      "18673/18673 [==============================] - 30s - loss: 0.2412 - acc: 0.9047 - val_loss: 0.3695 - val_acc: 0.8332\n",
      "Epoch 10/50\n",
      "18673/18673 [==============================] - 30s - loss: 0.2400 - acc: 0.9054 - val_loss: 0.2455 - val_acc: 0.9034\n",
      "Epoch 11/50\n",
      "18673/18673 [==============================] - 31s - loss: 0.2399 - acc: 0.9053 - val_loss: 0.2362 - val_acc: 0.9105\n",
      "Epoch 12/50\n",
      "18673/18673 [==============================] - 23s - loss: 0.2409 - acc: 0.9055 - val_loss: 0.2306 - val_acc: 0.9105\n",
      "Epoch 13/50\n",
      "18673/18673 [==============================] - 21s - loss: 0.2383 - acc: 0.9062 - val_loss: 0.2386 - val_acc: 0.9064\n",
      "Epoch 14/50\n",
      "18673/18673 [==============================] - 21s - loss: 0.2391 - acc: 0.9059 - val_loss: 0.2313 - val_acc: 0.9064\n",
      "Epoch 15/50\n",
      "18673/18673 [==============================] - 21s - loss: 0.2362 - acc: 0.9078 - val_loss: 0.2285 - val_acc: 0.9095\n",
      "Epoch 16/50\n",
      "18673/18673 [==============================] - 21s - loss: 0.2364 - acc: 0.9084 - val_loss: 0.3582 - val_acc: 0.8383\n",
      "Epoch 17/50\n",
      "18673/18673 [==============================] - 21s - loss: 0.2361 - acc: 0.9065 - val_loss: 0.2297 - val_acc: 0.9105\n",
      "Epoch 18/50\n",
      "18673/18673 [==============================] - 28s - loss: 0.2318 - acc: 0.9079 - val_loss: 0.2303 - val_acc: 0.9105\n",
      "Epoch 24/50\n",
      "10620/18673 [================>.............] - ETA: 12s - loss: 0.2329 - acc: 0.9083\n",
      "Epoch 29/50\n",
      "18673/18673 [==============================] - 30s - loss: 0.2284 - acc: 0.9117 - val_loss: 0.2319 - val_acc: 0.9054\n",
      "Epoch 30/50\n",
      "18673/18673 [==============================] - 34s - loss: 0.2268 - acc: 0.9109 - val_loss: 0.2380 - val_acc: 0.9044\n",
      "Epoch 31/50\n",
      "18673/18673 [==============================] - 22s - loss: 0.2276 - acc: 0.9112 - val_loss: 0.2379 - val_acc: 0.9044\n",
      "Epoch 32/50\n",
      "18673/18673 [==============================] - 21s - loss: 0.2263 - acc: 0.9105 - val_loss: 0.2369 - val_acc: 0.8993\n",
      "Epoch 33/50\n",
      "18673/18673 [==============================] - 19s - loss: 0.2256 - acc: 0.9126 - val_loss: 0.2258 - val_acc: 0.9125\n",
      "Epoch 34/50\n",
      "18673/18673 [==============================] - 20s - loss: 0.2251 - acc: 0.9126 - val_loss: 0.2340 - val_acc: 0.9064\n",
      "Epoch 35/50\n",
      "18673/18673 [==============================] - 21s - loss: 0.2246 - acc: 0.9134 - val_loss: 0.2905 - val_acc: 0.8881\n",
      "Epoch 36/50\n",
      "18673/18673 [==============================] - 21s - loss: 0.2253 - acc: 0.9118 - val_loss: 0.2404 - val_acc: 0.8993\n",
      "Epoch 37/50\n",
      "18673/18673 [==============================] - 18s - loss: 0.2251 - acc: 0.9121 - val_loss: 0.2320 - val_acc: 0.9095\n",
      "Epoch 38/50\n",
      "18673/18673 [==============================] - 20s - loss: 0.2240 - acc: 0.9123 - val_loss: 0.2322 - val_acc: 0.9095\n",
      "Epoch 39/50\n",
      "18673/18673 [==============================] - 20s - loss: 0.2226 - acc: 0.9131 - val_loss: 0.2267 - val_acc: 0.9105\n",
      "Epoch 40/50\n",
      "18673/18673 [==============================] - 20s - loss: 0.2226 - acc: 0.9128 - val_loss: 0.2275 - val_acc: 0.9105\n",
      "Epoch 41/50\n",
      "18673/18673 [==============================] - 20s - loss: 0.2226 - acc: 0.9137 - val_loss: 0.2338 - val_acc: 0.9105\n",
      "Epoch 42/50\n",
      "18673/18673 [==============================] - 19s - loss: 0.2231 - acc: 0.9116 - val_loss: 0.2366 - val_acc: 0.9064\n",
      "Epoch 43/50\n",
      "18673/18673 [==============================] - 19s - loss: 0.2217 - acc: 0.9137 - val_loss: 0.2379 - val_acc: 0.9054\n",
      "Epoch 44/50\n",
      "18673/18673 [==============================] - 20s - loss: 0.2227 - acc: 0.9130 - val_loss: 0.2308 - val_acc: 0.9145\n",
      "Epoch 45/50\n",
      "18673/18673 [==============================] - 19s - loss: 0.2205 - acc: 0.9129 - val_loss: 0.2365 - val_acc: 0.9145\n",
      "Epoch 46/50\n",
      "18673/18673 [==============================] - 21s - loss: 0.2210 - acc: 0.9129 - val_loss: 0.2315 - val_acc: 0.9145\n",
      "Epoch 47/50\n",
      "18673/18673 [==============================] - 20s - loss: 0.2194 - acc: 0.9148 - val_loss: 0.2282 - val_acc: 0.9145\n",
      "Epoch 48/50\n",
      "18673/18673 [==============================] - 21s - loss: 0.2192 - acc: 0.9134 - val_loss: 0.2349 - val_acc: 0.9125\n",
      "Epoch 49/50\n",
      "18673/18673 [==============================] - 21s - loss: 0.2194 - acc: 0.9145 - val_loss: 0.2250 - val_acc: 0.9095\n",
      "Epoch 50/50\n",
      "18673/18673 [==============================] - 21s - loss: 0.2178 - acc: 0.9161 - val_loss: 0.2354 - val_acc: 0.9125\n"
     ]
    }
   ],
   "source": [
    "# TODO: Train with mini trajectories of different lengths and compare the network performance. \n",
    "# Make plot with accuracy over epochs for different mini trajectories length.\n",
    "# According to the RBM thesis, the data should be correlated for 3 to 7 (corrected) time steps. \n",
    "# See details for each category in the thesis - can we replicate this with the NN?\n",
    "# TODO: Train with different lengths at the same time. \n",
    "\n",
    "# TODO: Play around with parameters of rmsprop.\n",
    "# TODO: Use sample_weight or class_weight parameter and see if it can fix unequally distributed data. \n",
    "hist = model.fit(training_mini_trajectories, training_targets, \n",
    "                 batch_size=15, nb_epoch=50, \n",
    "                 verbose=1, show_accuracy=True, validation_split=0.05, callbacks=[classHistory])"
   ]
  },
  {
   "cell_type": "code",
   "execution_count": 30,
   "metadata": {
    "ExecuteTime": {
     "end_time": "2016-03-12T18:20:36.727000",
     "start_time": "2016-03-12T18:20:36.314000"
    },
    "collapsed": false
   },
   "outputs": [
    {
     "data": {
      "text/plain": [
       "<matplotlib.legend.Legend at 0x40ca1370>"
      ]
     },
     "execution_count": 30,
     "metadata": {},
     "output_type": "execute_result"
    },
    {
     "data": {
      "image/png": "[encoded data removed]",
      "text/plain": [
       "<matplotlib.figure.Figure at 0x40ca1130>"
      ]
     },
     "metadata": {},
     "output_type": "display_data"
    }
   ],
   "source": [
    "# TODO: Use validation or test data for this plot?\n",
    "# TODO: Make epochs start at 1 or record accuracy before training.\n",
    "plt.plot(hist.history['acc'], label='Training')\n",
    "plt.plot(hist.history['val_acc'], label='Validation')\n",
    "plt.xlabel('Epoch')\n",
    "plt.ylabel('Accuracy')\n",
    "plt.legend(loc='lower right')\n",
    "\n",
    "#plt.xlim(60, 100)\n",
    "#plt.ylim(0.9, 1)"
   ]
  },
  {
   "cell_type": "code",
   "execution_count": 31,
   "metadata": {
    "ExecuteTime": {
     "end_time": "2016-03-12T18:21:12.766000",
     "start_time": "2016-03-12T18:21:12.402000"
    },
    "collapsed": false
   },
   "outputs": [
    {
     "data": {
      "text/plain": [
       "<matplotlib.legend.Legend at 0x40dc92b0>"
      ]
     },
     "execution_count": 31,
     "metadata": {},
     "output_type": "execute_result"
    },
    {
     "data": {
      "image/png": "[encoded data removed]",
      "text/plain": [
       "<matplotlib.figure.Figure at 0x40dc9070>"
      ]
     },
     "metadata": {},
     "output_type": "display_data"
    }
   ],
   "source": [
    "# TODO: Maybe try setting the weight for class 0 lower so the other classes get trained as well.\n",
    "# TODO: Make this with training dataset.\n",
    "for i, class_acc in enumerate(classHistory.class_acc):\n",
    "    plt.plot(class_acc, '-', label=\"Class {}\".format(i))\n",
    "    \n",
    "#plt.ylim(0, 1)\n",
    "#plt.xlim(50, 70)\n",
    "\n",
    "plt.xlabel('Epoch')\n",
    "plt.ylabel('Accuracy')\n",
    "plt.legend(loc='lower right')"
   ]
  },
  {
   "cell_type": "code",
   "execution_count": 32,
   "metadata": {
    "ExecuteTime": {
     "end_time": "2016-03-12T18:21:37.843000",
     "start_time": "2016-03-12T18:21:37.584000"
    },
    "collapsed": false
   },
   "outputs": [
    {
     "name": "stdout",
     "output_type": "stream",
     "text": [
      "Class 0: 0.000\n",
      "Class 1: 0.995\n",
      "Class 2: 0.005\n",
      "Is Class 1\n"
     ]
    },
    {
     "data": {
      "image/png": "[encoded data removed]",
      "text/plain": [
       "<matplotlib.figure.Figure at 0x42440590>"
      ]
     },
     "metadata": {},
     "output_type": "display_data"
    }
   ],
   "source": [
    "# Test on a random mini trajectory from the test dataset.\n",
    "i = np.random.randint(len(test_mini_trajectories))\n",
    "# TODO: Check if this is correct; most trajectories seem to go to the top right.\n",
    "reconstructed_trajectory = np.cumsum(test_mini_trajectories[i], axis=0) - test_mini_trajectories[i, 0]\n",
    "plt.plot(reconstructed_trajectory[:, 0], reconstructed_trajectory[:, 1])\n",
    "plt.xlim(-1.5, 1.5)\n",
    "plt.ylim(-1.5, 1.5)\n",
    "\n",
    "probabilities, = model.predict(test_mini_trajectories[i:i+1])\n",
    "\n",
    "for cat, prob in enumerate(probabilities):    \n",
    "    print 'Class {}: {:.3f}'.format(cat, prob)    \n",
    "        \n",
    "print 'Is Class', test_classes[i]"
   ]
  },
  {
   "cell_type": "code",
   "execution_count": null,
   "metadata": {
    "collapsed": false
   },
   "outputs": [],
   "source": [
    "def evaluate(data, classes):\n",
    "    predicted = model.predict_classes(data, verbose=0)\n",
    "    acc = 1. * np.sum(predicted == classes) / len(predicted)\n",
    "    return acc"
   ]
  },
  {
   "cell_type": "code",
   "execution_count": null,
   "metadata": {
    "ExecuteTime": {
     "start_time": "2016-03-13T21:06:47.611Z"
    },
    "collapsed": false
   },
   "outputs": [],
   "source": [
    "# Evaluate accuracy for each class. \n",
    "# TODO: Compare this to human performance.\n",
    "\n",
    "# TODO: What does batch_size do in predict? Esp, is the state of the RNN preserved or reset during one batch?\n",
    "# TODO: Maybe use evaluate together with show_accuracy for some of those things here.\n",
    "training_predicted = model.predict_classes(training_mini_trajectories, verbose=0)\n",
    "test_predicted = model.predict_classes(test_mini_trajectories, verbose=0)\n",
    "\n",
    "training_acc = 1. * np.sum(training_predicted == training_classes) / len(training_predicted)\n",
    "test_acc = 1. * np.sum(test_predicted == test_classes) / len(test_predicted)\n",
    "print 'Overall accuracy:               Training: {:.3f}, Test: {:.3f}'.format(training_acc, test_acc)\n",
    "\n",
    "for which_class in [0, 1, 2]:\n",
    "    training_acc = 1. * np.sum(training_predicted[training_classes == which_class] == which_class) / len(training_predicted[training_classes == which_class])\n",
    "    test_acc = 1. * np.sum(test_predicted[test_classes == which_class] == which_class) / len(test_predicted[test_classes == which_class])\n",
    "    print 'Accuracy for class {} ({:^7}): Training: {:.3f}, Test: {:.3f}'.format(which_class, target_to_category[which_class], training_acc, test_acc)"
   ]
  },
  {
   "cell_type": "code",
   "execution_count": null,
   "metadata": {
    "collapsed": true
   },
   "outputs": [],
   "source": [
    "# TODO: Use only x and y coordinates for classification and compare to accuracy of using x/y/z data.\n",
    "# TODO: Predict trajectory of one specific class. "
   ]
  },
  {
   "cell_type": "code",
   "execution_count": null,
   "metadata": {
    "collapsed": false
   },
   "outputs": [],
   "source": [
    "# Evaluate accuracy for trajectories of different lengths (ie with different numbers of time steps).\n",
    "# TODO: Does keras reset the state after each prediction?\n",
    "# TODO: Make this work for all classes.\n",
    "mini_trajectories_per_length = {}\n",
    "for length in range(2, 30):\n",
    "    mini_trajectories_per_length[length] = []\n",
    "    for trajectory in trajectories_per_category['plastic']:  # TODO: Do this for all categories/for test dataset.\n",
    "        for i in range(0, len(trajectory) - length, 5):\n",
    "            mini_trajectories_per_length[length].append(trajectory[i:i+length])  # Set start of mini trajectory to origin.\n",
    "    mini_trajectories_per_length[length] = np.array(mini_trajectories_per_length[length])"
   ]
  },
  {
   "cell_type": "code",
   "execution_count": null,
   "metadata": {
    "collapsed": false
   },
   "outputs": [],
   "source": [
    "acc = []\n",
    "for length, traj in mini_trajectories_per_length.items():\n",
    "    a = evaluate(traj, 2)\n",
    "    print 'Accuracy for length {}: {:.3f}'.format(length, a)\n",
    "    acc.append(a)    "
   ]
  },
  {
   "cell_type": "code",
   "execution_count": null,
   "metadata": {
    "collapsed": false
   },
   "outputs": [],
   "source": [
    "plt.plot(mini_trajectories_per_length.keys(), acc, 'o-')\n",
    "plt.xlabel('Trajectory Length')\n",
    "plt.ylabel('Accuracy')\n",
    "plt.ylim(0, 1)"
   ]
  },
  {
   "cell_type": "code",
   "execution_count": null,
   "metadata": {
    "collapsed": false
   },
   "outputs": [],
   "source": [
    "# TODO: Make plot that shows how often which class is predicted for different trajectory lengths\n",
    "# (it seems that the network always predicts class 2 for small trajectories)"
   ]
  },
  {
   "cell_type": "code",
   "execution_count": null,
   "metadata": {
    "collapsed": true
   },
   "outputs": [],
   "source": [
    "# Parameters for optimzation:\n",
    "# - mini trajectory length\n",
    "# - mini trajectory step\n",
    "# - output_dim\n",
    "# - number of LSTM layers\n",
    "# - rmsprop parameters (LOOK THESE UP)\n",
    "# - batch_size\n",
    "# - (maybe) class_weight\n",
    "# - activation/internal parameters of LSTM\n",
    "# - GRU etc.\n",
    "\n",
    "# TODO before optimization:\n",
    "# - check out class_weight\n",
    "# - train with different lengths in the same dataset\n",
    "# - x/y vs x/y/z\n",
    "# - get training/validation/test split right (numbers + replicability)\n",
    "# - use all data for learning not just subset (<-> class_weight)\n",
    "# - infrastructure code to run experiments and save data (maybe also for classes/lengths), plots, models (architecture + weights)"
   ]
  },
  {
   "cell_type": "code",
   "execution_count": null,
   "metadata": {
    "collapsed": true
   },
   "outputs": [],
   "source": [
    "# Save model to file.\n",
    "open('model/my_model_architecture.json', 'w').write(model.to_json())\n",
    "model.save_weights('model/my_model_weights.h5')"
   ]
  },
  {
   "cell_type": "code",
   "execution_count": null,
   "metadata": {
    "collapsed": false
   },
   "outputs": [],
   "source": [
    "# Load model from file.\n",
    "from keras.models import model_from_json\n",
    "model = model_from_json(open('model/my_model_architecture.json').read())\n",
    "model.load_weights('model/my_model_weights.h5')"
   ]
  },
  {
   "cell_type": "code",
   "execution_count": null,
   "metadata": {
    "collapsed": true
   },
   "outputs": [],
   "source": []
  }
 ],
 "metadata": {
  "kernelspec": {
   "display_name": "Python 2",
   "language": "python",
   "name": "python2"
  },
  "language_info": {
   "codemirror_mode": {
    "name": "ipython",
    "version": 2
   },
   "file_extension": ".py",
   "mimetype": "text/x-python",
   "name": "python",
   "nbconvert_exporter": "python",
   "pygments_lexer": "ipython2",
   "version": "2.7.8"
  },
  "notify_time": "30"
 },
 "nbformat": 4,
 "nbformat_minor": 0
}
